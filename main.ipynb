{
 "cells": [
  {
   "cell_type": "code",
   "execution_count": 3,
   "metadata": {},
   "outputs": [],
   "source": [
    "import numpy as np\n",
    "import matplotlib.pyplot as plt\n",
    "import pandas as pd\n",
    "# import streamlit as st\n",
    "import matplotlib.pyplot as plt\n",
    "import altair as alt\n"
   ]
  },
  {
   "cell_type": "code",
   "execution_count": 4,
   "metadata": {},
   "outputs": [
    {
     "data": {
      "text/html": [
       "<div>\n",
       "<style scoped>\n",
       "    .dataframe tbody tr th:only-of-type {\n",
       "        vertical-align: middle;\n",
       "    }\n",
       "\n",
       "    .dataframe tbody tr th {\n",
       "        vertical-align: top;\n",
       "    }\n",
       "\n",
       "    .dataframe thead th {\n",
       "        text-align: right;\n",
       "    }\n",
       "</style>\n",
       "<table border=\"1\" class=\"dataframe\">\n",
       "  <thead>\n",
       "    <tr style=\"text-align: right;\">\n",
       "      <th></th>\n",
       "      <th>Department</th>\n",
       "      <th>Service request type</th>\n",
       "      <th>Status</th>\n",
       "      <th>Closure reason</th>\n",
       "      <th>Service request open timestamp</th>\n",
       "      <th>Service request close date</th>\n",
       "      <th>Local area</th>\n",
       "      <th>Channel</th>\n",
       "    </tr>\n",
       "  </thead>\n",
       "  <tbody>\n",
       "    <tr>\n",
       "      <th>0</th>\n",
       "      <td>ENG - Parking Management</td>\n",
       "      <td>Residential Parking Permit Request Case</td>\n",
       "      <td>Close</td>\n",
       "      <td>Unknown</td>\n",
       "      <td>2022-09-16T20:21:59-07:00</td>\n",
       "      <td>2023-10-19</td>\n",
       "      <td>Sunset</td>\n",
       "      <td>Phone</td>\n",
       "    </tr>\n",
       "    <tr>\n",
       "      <th>1</th>\n",
       "      <td>PR - Urban Forestry</td>\n",
       "      <td>City and Park Trees Maintenance Case</td>\n",
       "      <td>Close</td>\n",
       "      <td>Further action has been planned</td>\n",
       "      <td>2022-09-16T20:31:00-07:00</td>\n",
       "      <td>2022-09-21</td>\n",
       "      <td>Mount Pleasant</td>\n",
       "      <td>Phone</td>\n",
       "    </tr>\n",
       "    <tr>\n",
       "      <th>2</th>\n",
       "      <td>ENG - Sanitation Services</td>\n",
       "      <td>Dead Animal Pick Up Case</td>\n",
       "      <td>Close</td>\n",
       "      <td>Issue not found or inaccessible</td>\n",
       "      <td>2022-09-16T20:36:00-07:00</td>\n",
       "      <td>2022-09-22</td>\n",
       "      <td>Renfrew-Collingwood</td>\n",
       "      <td>Phone</td>\n",
       "    </tr>\n",
       "    <tr>\n",
       "      <th>3</th>\n",
       "      <td>ENG - Parking Enforcement and Operations</td>\n",
       "      <td>Parking Enforcement Transfer Case</td>\n",
       "      <td>Close</td>\n",
       "      <td>Unknown</td>\n",
       "      <td>2022-09-16T20:37:36-07:00</td>\n",
       "      <td>2022-09-16</td>\n",
       "      <td>NaN</td>\n",
       "      <td>Phone</td>\n",
       "    </tr>\n",
       "    <tr>\n",
       "      <th>4</th>\n",
       "      <td>DBL - Services Centre</td>\n",
       "      <td>Building and Development Inquiry Case</td>\n",
       "      <td>Close</td>\n",
       "      <td>Service provided</td>\n",
       "      <td>2022-09-16T20:58:00-07:00</td>\n",
       "      <td>2022-09-20</td>\n",
       "      <td>NaN</td>\n",
       "      <td>WEB</td>\n",
       "    </tr>\n",
       "  </tbody>\n",
       "</table>\n",
       "</div>"
      ],
      "text/plain": [
       "                                 Department  \\\n",
       "0                  ENG - Parking Management   \n",
       "1                       PR - Urban Forestry   \n",
       "2                 ENG - Sanitation Services   \n",
       "3  ENG - Parking Enforcement and Operations   \n",
       "4                     DBL - Services Centre   \n",
       "\n",
       "                      Service request type Status  \\\n",
       "0  Residential Parking Permit Request Case  Close   \n",
       "1     City and Park Trees Maintenance Case  Close   \n",
       "2                 Dead Animal Pick Up Case  Close   \n",
       "3        Parking Enforcement Transfer Case  Close   \n",
       "4    Building and Development Inquiry Case  Close   \n",
       "\n",
       "                    Closure reason Service request open timestamp  \\\n",
       "0                          Unknown      2022-09-16T20:21:59-07:00   \n",
       "1  Further action has been planned      2022-09-16T20:31:00-07:00   \n",
       "2  Issue not found or inaccessible      2022-09-16T20:36:00-07:00   \n",
       "3                          Unknown      2022-09-16T20:37:36-07:00   \n",
       "4                 Service provided      2022-09-16T20:58:00-07:00   \n",
       "\n",
       "  Service request close date           Local area Channel  \n",
       "0                 2023-10-19               Sunset   Phone  \n",
       "1                 2022-09-21       Mount Pleasant   Phone  \n",
       "2                 2022-09-22  Renfrew-Collingwood   Phone  \n",
       "3                 2022-09-16                  NaN   Phone  \n",
       "4                 2022-09-20                  NaN     WEB  "
      ]
     },
     "execution_count": 4,
     "metadata": {},
     "output_type": "execute_result"
    }
   ],
   "source": [
    "import pandas as pd\n",
    "data = pd.read_csv('/Users/ay/Desktop/Project2/data/3-1-1-service-requests.csv', delimiter=';')\n",
    "\n",
    "service_requests = data[['Department', 'Service request type', 'Status', 'Closure reason', 'Service request open timestamp','Service request close date','Local area','Channel']]\n",
    "service_requests.head()\n",
    "# data.head()\n",
    "# service_requests.to_csv('/Users/ay/Desktop/Project2/data/311service-requests.csv', index=False)\n"
   ]
  },
  {
   "cell_type": "code",
   "execution_count": 5,
   "metadata": {},
   "outputs": [
    {
     "data": {
      "text/plain": [
       "array(['Residential Parking Permit Request Case',\n",
       "       'City and Park Trees Maintenance Case', 'Dead Animal Pick Up Case',\n",
       "       'Parking Enforcement Transfer Case',\n",
       "       'Building and Development Inquiry Case',\n",
       "       'Urban Issues on City Property Case', 'Z - Curb Ramp Request Case',\n",
       "       'Noise on Private Property Case', 'General Feedback Case',\n",
       "       'Abandoned Non-Recyclables-Large Case', 'Dog Licence Case',\n",
       "       'Business Licence Request Case', 'Urban Issues in Parks Case',\n",
       "       'Street Furniture Request Case', 'Traffic Management Inquiry Case',\n",
       "       'Private Property Construction Noise Case',\n",
       "       'Street Cleaning and Debris Pick Up Case',\n",
       "       'Street and Sidewalk Use Request Case',\n",
       "       'Special Events Office Request Case',\n",
       "       'City Services Feedback Case', 'Mayor and Council Feedback Case',\n",
       "       'Van311 Feedback Case',\n",
       "       'Security Alarm Permit (Revenue Services) Case',\n",
       "       'Empty Homes Enforcement Tip Case', 'Abandoned Recyclables Case',\n",
       "       'Park Improvement Case', 'Abandoned Non-Recyclables-Small Case',\n",
       "       'Sewer Backup Case', 'Green Bin Request Case',\n",
       "       'Missed Green Bin Pickup Case', 'Missed Garbage Bin Pickup Case',\n",
       "       'Abandoned Mattress Case', 'Parks Operations and Maintenance Case',\n",
       "       'ZZ OLD - Traffic Calming Case',\n",
       "       'Meter Out of Order Internal Audit Case', 'Sidewalk Repair Case',\n",
       "       'Feces Clean Up Case', 'Private Property Concern Case',\n",
       "       'Parking Meter Refund Request Case',\n",
       "       'Graffiti Removal - City Property Case',\n",
       "       'Boulevard Maintenance Case',\n",
       "       'Vegetation Encroachment of City Property Case',\n",
       "       'Environmental Protection Inquiry Case',\n",
       "       'Park Ranger Request Case', 'Street Light Out Case',\n",
       "       'Needle Clean Up Case', 'Animal Services Inquiry Case',\n",
       "       'Traffic and Pedestrian Signal -Modify Request Case',\n",
       "       'Commercial Waste Container Concern Case',\n",
       "       'Fire Safety Hazards Case', 'Animal Concern Case',\n",
       "       'Fire Prevention Inquiry Case', 'Street Litter Can Case',\n",
       "       'Abandoned or Uninsured Vehicle Case', 'Water Leak Case',\n",
       "       'Garbage Bin Request Case', 'Lost Pets Case',\n",
       "       'Rats and Rodents Case', 'Parks Feedback Case',\n",
       "       'Preventative Maintenance Program Case', 'Street Repair Case',\n",
       "       'Emergency Referral Tracking Report Case',\n",
       "       'Traffic Signal Repair Case', 'Sign Repair Case',\n",
       "       'Private Property Construction Concern Case',\n",
       "       'Street Construction Concern Case',\n",
       "       'Residential Cart Concern Case',\n",
       "       'ZZ OLD - Private Property Tree Removal Case',\n",
       "       'Empty Homes Tax Request Case',\n",
       "       'Sewer Drainage and Design Inquiry Case',\n",
       "       'Water Meter Reading Request Case', 'Property Tax Request Case',\n",
       "       'Unpermitted Construction Container Concern Case',\n",
       "       'Street Light Pole Maintenance Case',\n",
       "       'Truck Violation Concern Case',\n",
       "       'Water Conservation Violation Case', 'Water Hydrant Concern Case',\n",
       "       'Graffiti Removal - External Organization Case', 'Hot Topic Case',\n",
       "       'Pothole Case', 'Credit Card Reversal Request Case',\n",
       "       'Street Furniture Maintenance Case',\n",
       "       'New or Relocate Street Light Pole Case',\n",
       "       'Traffic Sign - New Request Case', 'Private Property Inquiry Case',\n",
       "       'Traffic Sign - Modify Request Case',\n",
       "       'Water Service Line Turn On or Off Request Case',\n",
       "       'Hoarding Request Case', 'Sanitation Operations Inquiry Case',\n",
       "       'Park Facility Maintenance Request', 'Illegal Dumping Case',\n",
       "       'Feeding Wildlife Case',\n",
       "       'Environmental Contamination Concern Case',\n",
       "       'Free Paint Voucher Request Case', 'Park Litter Can Case',\n",
       "       'Filming Office Request Case', 'Employee Feedback Case',\n",
       "       'Bylaw Compliance and Property Admin Request Case',\n",
       "       'Sign Cleaning Case', 'Park Board Commissioner Feedback Case',\n",
       "       'Loose Litter Clean Up Case', 'Non-Vegetative Encroachment Case',\n",
       "       'Fireworks Request Case', 'Bridge and Structures Maintenance Case',\n",
       "       'Traffic and Pedestrian Signal -New Request Case',\n",
       "       'Locate Water Service Line or Valve Case',\n",
       "       'Short-Term Rental Concern Case',\n",
       "       'Vancouver Building Bylaw Inquiry Case',\n",
       "       'Graffiti Removal - Private Property Case',\n",
       "       'Residential Street Curbside Sign Request Case',\n",
       "       'Website Feedback Case', 'Election Inquiry Case',\n",
       "       'Graffiti Removal - Park Property Case',\n",
       "       'Business Improvement Area Inquiry Case',\n",
       "       'Street Surface Water Flooding Case',\n",
       "       'Security Alarm Permit (VPD) Case',\n",
       "       'Parks Washroom Servicing Case', 'External Utility Concern Case',\n",
       "       'Special Events Inquiry Case', 'Newspaper Box Concern Case',\n",
       "       'Waterworks General Work Request Case',\n",
       "       'Disposal Facility - Landfill Inquiry Case',\n",
       "       'Engineering Client Services Request Case',\n",
       "       'Pest Management Inquiry Case',\n",
       "       'Disposal Facility - Transfer Station Inquiry Case',\n",
       "       'Sewer Operations Inquiry Case', 'General Street Issues Case',\n",
       "       'Local Improvement Program Case',\n",
       "       'Business Licence Change of Use (Five Uses) Case',\n",
       "       'Catch Basin Concern Case', 'Bylaw Fines Request Case',\n",
       "       'Request Fire Reinspection (Firehall) Case',\n",
       "       'Lockbox Request Case', 'Water Meter Request Case',\n",
       "       'Water Design Inquiry Case', 'Construction Related Concerns Case',\n",
       "       'Traffic and Electrical Inquiry Case',\n",
       "       'Street or Traffic Light Utility Damage Case',\n",
       "       'Landscape Request Case', 'High Water Consumption Concern Case',\n",
       "       'Fire Inspection Request Case', 'Pavement Markings Case',\n",
       "       'Vegetation Maintenance Case', 'Water Quality Concern Case',\n",
       "       'Waterworks Operations Construction Concern Case',\n",
       "       'Arterial St. Curbside Sign - Modify Request Case',\n",
       "       'Sidewalk Snow and Ice Removal Bylaw Violation Case',\n",
       "       'Short-Term Rental Request Case', 'Damage to Water System Case',\n",
       "       'High Angle Rescue Inquiry Case', 'Utility Billing Request Case',\n",
       "       'Waterworks Request Case',\n",
       "       'Graffiti Removal - Commercial Waste Container Case',\n",
       "       'New Litter Can Request Case', 'Business Support Request Case',\n",
       "       'Traffic Signal Timing Concern Case',\n",
       "       'Transportation Planning Inquiry Case',\n",
       "       'Snow and Ice Removal From City Property Case',\n",
       "       'New Crosswalk Marking Case', 'Transit Related Request Case',\n",
       "       'Public Hearing Feedback Case',\n",
       "       'Sidewalk Snow and Ice Removal Bylaw Inquiry Case',\n",
       "       'Working from Height Notification Case',\n",
       "       'Sustainability Inquiry Case',\n",
       "       'Transportation Design Project Inquiry Case',\n",
       "       'Sewer Construction Concern Case', 'Filming Inquiry Case',\n",
       "       'Water Pressure Concern Case',\n",
       "       'Neighbourhood Energy Utility Request Case',\n",
       "       'Commercial Street Curbside Sign Request Case',\n",
       "       'Fire Inspection Concern Case',\n",
       "       'Sewer Maintenance Hole Concern Case',\n",
       "       'Snow Angel Program Request Case',\n",
       "       'Street Furniture Litter Can Maintenance Case',\n",
       "       'City Construction Project Concern Case',\n",
       "       'Solid Waste Programs Inquiry Case', 'Curb Ramp Request Case',\n",
       "       'Canada Geese Nests Case', 'Traffic Calming Case',\n",
       "       'Business Patio Inquiry Case', 'Parking Enforcement Request Case',\n",
       "       'On-Duty Inspector Inquiry Case',\n",
       "       'Arterial St. Curbside Sign - New Request Case',\n",
       "       'Pavement Marking Maintenance Case',\n",
       "       'Tenant Improvement Program Request Case',\n",
       "       'Recreation Feedback Case', 'Tower Crane Site Survey Case',\n",
       "       'Traffic Operations Construction Concern Case',\n",
       "       'Graffiti Management Program Case', 'Parking Meter Request Case',\n",
       "       'Parking Management Inquiry Case',\n",
       "       'Character Merit Assessment Request Case',\n",
       "       'Start or Stop Collection Service Case',\n",
       "       'Accessibility Feedback Case',\n",
       "       'Adopt a Catch Basin Program Inquiry Case',\n",
       "       'City Manager Feedback Case',\n",
       "       'Request Fire Reinspection (Inspector) Case',\n",
       "       'Urban Planning Request Case', 'Home Safety Check Request Case',\n",
       "       'Single-Use Item Bylaw Request Case',\n",
       "       'School Traffic Concern Case',\n",
       "       'Private Property Tree Removal Concern Case',\n",
       "       'Planner Appointment Request Case', 'Sewer Odour Case',\n",
       "       'Tour Bus Permit Case',\n",
       "       'Streets Horticulture Program Inquiry Case',\n",
       "       'Parking Ticket Review Case',\n",
       "       'Water Exemption Permit Request Case',\n",
       "       'City Clock Maintenance Case',\n",
       "       'Gastown Public Space Plan Request Case',\n",
       "       'Sewer Utility Damage Case',\n",
       "       'Moving and Storage Container Concern Case',\n",
       "       'Customer Service Service Request Case',\n",
       "       'Address Change Request Case',\n",
       "       'Neighbourhood Energy Utility Issue Case',\n",
       "       'Community Transportation Request Case'], dtype=object)"
      ]
     },
     "execution_count": 5,
     "metadata": {},
     "output_type": "execute_result"
    }
   ],
   "source": [
    "service_requests['Closure reason'].unique()\n",
    "service_requests['Closure reason'].value_counts()\n",
    "# service_requests.info()\n",
    "service_requests['Service request type'].value_counts() # 1.1.1\n",
    "service_requests['Service request type'].unique()"
   ]
  },
  {
   "cell_type": "code",
   "execution_count": 6,
   "metadata": {},
   "outputs": [],
   "source": [
    "service_requests['Closure reason'].unique()\n",
    "service_requests['Closure reason'].value_counts()\n",
    "# service_requests.info()\n",
    "request_types = []\n",
    "\n",
    "\n",
    "\n"
   ]
  },
  {
   "cell_type": "code",
   "execution_count": 7,
   "metadata": {},
   "outputs": [
    {
     "data": {
      "text/plain": [
       "array(['Residential Parking Permit Request Case',\n",
       "       'City and Park Trees Maintenance Case', 'Dead Animal Pick Up Case',\n",
       "       'Parking Enforcement Transfer Case',\n",
       "       'Building and Development Inquiry Case',\n",
       "       'Urban Issues on City Property Case', 'Z - Curb Ramp Request Case',\n",
       "       'Noise on Private Property Case', 'General Feedback Case',\n",
       "       'Abandoned Non-Recyclables-Large Case', 'Dog Licence Case',\n",
       "       'Business Licence Request Case', 'Urban Issues in Parks Case',\n",
       "       'Street Furniture Request Case', 'Traffic Management Inquiry Case',\n",
       "       'Private Property Construction Noise Case',\n",
       "       'Street Cleaning and Debris Pick Up Case',\n",
       "       'Street and Sidewalk Use Request Case',\n",
       "       'Special Events Office Request Case',\n",
       "       'City Services Feedback Case', 'Mayor and Council Feedback Case',\n",
       "       'Van311 Feedback Case',\n",
       "       'Security Alarm Permit (Revenue Services) Case',\n",
       "       'Empty Homes Enforcement Tip Case', 'Abandoned Recyclables Case',\n",
       "       'Park Improvement Case', 'Abandoned Non-Recyclables-Small Case',\n",
       "       'Sewer Backup Case', 'Green Bin Request Case',\n",
       "       'Missed Green Bin Pickup Case', 'Missed Garbage Bin Pickup Case',\n",
       "       'Abandoned Mattress Case', 'Parks Operations and Maintenance Case',\n",
       "       'ZZ OLD - Traffic Calming Case',\n",
       "       'Meter Out of Order Internal Audit Case', 'Sidewalk Repair Case',\n",
       "       'Feces Clean Up Case', 'Private Property Concern Case',\n",
       "       'Parking Meter Refund Request Case',\n",
       "       'Graffiti Removal - City Property Case',\n",
       "       'Boulevard Maintenance Case',\n",
       "       'Vegetation Encroachment of City Property Case',\n",
       "       'Environmental Protection Inquiry Case',\n",
       "       'Park Ranger Request Case', 'Street Light Out Case',\n",
       "       'Needle Clean Up Case', 'Animal Services Inquiry Case',\n",
       "       'Traffic and Pedestrian Signal -Modify Request Case',\n",
       "       'Commercial Waste Container Concern Case',\n",
       "       'Fire Safety Hazards Case', 'Animal Concern Case',\n",
       "       'Fire Prevention Inquiry Case', 'Street Litter Can Case',\n",
       "       'Abandoned or Uninsured Vehicle Case', 'Water Leak Case',\n",
       "       'Garbage Bin Request Case', 'Lost Pets Case',\n",
       "       'Rats and Rodents Case', 'Parks Feedback Case',\n",
       "       'Preventative Maintenance Program Case', 'Street Repair Case',\n",
       "       'Emergency Referral Tracking Report Case',\n",
       "       'Traffic Signal Repair Case', 'Sign Repair Case',\n",
       "       'Private Property Construction Concern Case',\n",
       "       'Street Construction Concern Case',\n",
       "       'Residential Cart Concern Case',\n",
       "       'ZZ OLD - Private Property Tree Removal Case',\n",
       "       'Empty Homes Tax Request Case',\n",
       "       'Sewer Drainage and Design Inquiry Case',\n",
       "       'Water Meter Reading Request Case', 'Property Tax Request Case',\n",
       "       'Unpermitted Construction Container Concern Case',\n",
       "       'Street Light Pole Maintenance Case',\n",
       "       'Truck Violation Concern Case',\n",
       "       'Water Conservation Violation Case', 'Water Hydrant Concern Case',\n",
       "       'Graffiti Removal - External Organization Case', 'Hot Topic Case',\n",
       "       'Pothole Case', 'Credit Card Reversal Request Case',\n",
       "       'Street Furniture Maintenance Case',\n",
       "       'New or Relocate Street Light Pole Case',\n",
       "       'Traffic Sign - New Request Case', 'Private Property Inquiry Case',\n",
       "       'Traffic Sign - Modify Request Case',\n",
       "       'Water Service Line Turn On or Off Request Case',\n",
       "       'Hoarding Request Case', 'Sanitation Operations Inquiry Case',\n",
       "       'Park Facility Maintenance Request', 'Illegal Dumping Case',\n",
       "       'Feeding Wildlife Case',\n",
       "       'Environmental Contamination Concern Case',\n",
       "       'Free Paint Voucher Request Case', 'Park Litter Can Case',\n",
       "       'Filming Office Request Case', 'Employee Feedback Case',\n",
       "       'Bylaw Compliance and Property Admin Request Case',\n",
       "       'Sign Cleaning Case', 'Park Board Commissioner Feedback Case',\n",
       "       'Loose Litter Clean Up Case', 'Non-Vegetative Encroachment Case',\n",
       "       'Fireworks Request Case', 'Bridge and Structures Maintenance Case',\n",
       "       'Traffic and Pedestrian Signal -New Request Case',\n",
       "       'Locate Water Service Line or Valve Case',\n",
       "       'Short-Term Rental Concern Case',\n",
       "       'Vancouver Building Bylaw Inquiry Case',\n",
       "       'Graffiti Removal - Private Property Case',\n",
       "       'Residential Street Curbside Sign Request Case',\n",
       "       'Website Feedback Case', 'Election Inquiry Case',\n",
       "       'Graffiti Removal - Park Property Case',\n",
       "       'Business Improvement Area Inquiry Case',\n",
       "       'Street Surface Water Flooding Case',\n",
       "       'Security Alarm Permit (VPD) Case',\n",
       "       'Parks Washroom Servicing Case', 'External Utility Concern Case',\n",
       "       'Special Events Inquiry Case', 'Newspaper Box Concern Case',\n",
       "       'Waterworks General Work Request Case',\n",
       "       'Disposal Facility - Landfill Inquiry Case',\n",
       "       'Engineering Client Services Request Case',\n",
       "       'Pest Management Inquiry Case',\n",
       "       'Disposal Facility - Transfer Station Inquiry Case',\n",
       "       'Sewer Operations Inquiry Case', 'General Street Issues Case',\n",
       "       'Local Improvement Program Case',\n",
       "       'Business Licence Change of Use (Five Uses) Case',\n",
       "       'Catch Basin Concern Case', 'Bylaw Fines Request Case',\n",
       "       'Request Fire Reinspection (Firehall) Case',\n",
       "       'Lockbox Request Case', 'Water Meter Request Case',\n",
       "       'Water Design Inquiry Case', 'Construction Related Concerns Case',\n",
       "       'Traffic and Electrical Inquiry Case',\n",
       "       'Street or Traffic Light Utility Damage Case',\n",
       "       'Landscape Request Case', 'High Water Consumption Concern Case',\n",
       "       'Fire Inspection Request Case', 'Pavement Markings Case',\n",
       "       'Vegetation Maintenance Case', 'Water Quality Concern Case',\n",
       "       'Waterworks Operations Construction Concern Case',\n",
       "       'Arterial St. Curbside Sign - Modify Request Case',\n",
       "       'Sidewalk Snow and Ice Removal Bylaw Violation Case',\n",
       "       'Short-Term Rental Request Case', 'Damage to Water System Case',\n",
       "       'High Angle Rescue Inquiry Case', 'Utility Billing Request Case',\n",
       "       'Waterworks Request Case',\n",
       "       'Graffiti Removal - Commercial Waste Container Case',\n",
       "       'New Litter Can Request Case', 'Business Support Request Case',\n",
       "       'Traffic Signal Timing Concern Case',\n",
       "       'Transportation Planning Inquiry Case',\n",
       "       'Snow and Ice Removal From City Property Case',\n",
       "       'New Crosswalk Marking Case', 'Transit Related Request Case',\n",
       "       'Public Hearing Feedback Case',\n",
       "       'Sidewalk Snow and Ice Removal Bylaw Inquiry Case',\n",
       "       'Working from Height Notification Case',\n",
       "       'Sustainability Inquiry Case',\n",
       "       'Transportation Design Project Inquiry Case',\n",
       "       'Sewer Construction Concern Case', 'Filming Inquiry Case',\n",
       "       'Water Pressure Concern Case',\n",
       "       'Neighbourhood Energy Utility Request Case',\n",
       "       'Commercial Street Curbside Sign Request Case',\n",
       "       'Fire Inspection Concern Case',\n",
       "       'Sewer Maintenance Hole Concern Case',\n",
       "       'Snow Angel Program Request Case',\n",
       "       'Street Furniture Litter Can Maintenance Case',\n",
       "       'City Construction Project Concern Case',\n",
       "       'Solid Waste Programs Inquiry Case', 'Curb Ramp Request Case',\n",
       "       'Canada Geese Nests Case', 'Traffic Calming Case',\n",
       "       'Business Patio Inquiry Case', 'Parking Enforcement Request Case',\n",
       "       'On-Duty Inspector Inquiry Case',\n",
       "       'Arterial St. Curbside Sign - New Request Case',\n",
       "       'Pavement Marking Maintenance Case',\n",
       "       'Tenant Improvement Program Request Case',\n",
       "       'Recreation Feedback Case', 'Tower Crane Site Survey Case',\n",
       "       'Traffic Operations Construction Concern Case',\n",
       "       'Graffiti Management Program Case', 'Parking Meter Request Case',\n",
       "       'Parking Management Inquiry Case',\n",
       "       'Character Merit Assessment Request Case',\n",
       "       'Start or Stop Collection Service Case',\n",
       "       'Accessibility Feedback Case',\n",
       "       'Adopt a Catch Basin Program Inquiry Case',\n",
       "       'City Manager Feedback Case',\n",
       "       'Request Fire Reinspection (Inspector) Case',\n",
       "       'Urban Planning Request Case', 'Home Safety Check Request Case',\n",
       "       'Single-Use Item Bylaw Request Case',\n",
       "       'School Traffic Concern Case',\n",
       "       'Private Property Tree Removal Concern Case',\n",
       "       'Planner Appointment Request Case', 'Sewer Odour Case',\n",
       "       'Tour Bus Permit Case',\n",
       "       'Streets Horticulture Program Inquiry Case',\n",
       "       'Parking Ticket Review Case',\n",
       "       'Water Exemption Permit Request Case',\n",
       "       'City Clock Maintenance Case',\n",
       "       'Gastown Public Space Plan Request Case',\n",
       "       'Sewer Utility Damage Case',\n",
       "       'Moving and Storage Container Concern Case',\n",
       "       'Customer Service Service Request Case',\n",
       "       'Address Change Request Case',\n",
       "       'Neighbourhood Energy Utility Issue Case',\n",
       "       'Community Transportation Request Case'], dtype=object)"
      ]
     },
     "execution_count": 7,
     "metadata": {},
     "output_type": "execute_result"
    }
   ],
   "source": [
    "service_requests['Service request type'].unique()\n"
   ]
  },
  {
   "cell_type": "code",
   "execution_count": 8,
   "metadata": {},
   "outputs": [
    {
     "name": "stdout",
     "output_type": "stream",
     "text": [
      "Most frequent service request type: Building and Development Inquiry Case\n"
     ]
    }
   ],
   "source": [
    "most_frequent_request = service_requests['Service request type'].value_counts().idxmax()\n",
    "print(\"Most frequent service request type:\", most_frequent_request)"
   ]
  },
  {
   "cell_type": "code",
   "execution_count": 9,
   "metadata": {},
   "outputs": [
    {
     "data": {
      "text/plain": [
       "Service request type\n",
       "Building and Development Inquiry Case     57784\n",
       "Business Licence Request Case             34619\n",
       "Missed Green Bin Pickup Case              30734\n",
       "City and Park Trees Maintenance Case      25780\n",
       "Garbage Bin Request Case                  24263\n",
       "Mayor and Council Feedback Case           22020\n",
       "Missed Garbage Bin Pickup Case            21392\n",
       "Abandoned Non-Recyclables-Small Case      18360\n",
       "Parking Enforcement Transfer Case         17910\n",
       "Green Bin Request Case                    16693\n",
       "City Services Feedback Case               15092\n",
       "General Feedback Case                     12899\n",
       "Noise on Private Property Case            10785\n",
       "Abandoned or Uninsured Vehicle Case       10176\n",
       "Meter Out of Order Internal Audit Case    10167\n",
       "Animal Concern Case                        9487\n",
       "Private Property Concern Case              9247\n",
       "Abandoned Recyclables Case                 8914\n",
       "Street Light Out Case                      8222\n",
       "Pothole Case                               8158\n",
       "Name: count, dtype: int64"
      ]
     },
     "execution_count": 9,
     "metadata": {},
     "output_type": "execute_result"
    }
   ],
   "source": [
    "\n",
    "# Identify and categorize request types\n",
    "request_types = service_requests['Service request type'].unique()\n",
    "# Example categorization (customize as needed)\n",
    "categories = {\n",
    "    'Garbage': ['Abandoned Recyclables Case', 'Garbage Pickup'],\n",
    "    'Maintenance': ['Street Light Out', 'Pothole Repair'],\n",
    "    # Add more categories as needed\n",
    "}\n",
    "\n",
    "# Determine most frequent request types\n",
    "request_type_counts = service_requests['Service request type'].value_counts()\n",
    "most_frequent_requests = request_type_counts.head(20)\n",
    "most_frequent_requests"
   ]
  },
  {
   "cell_type": "code",
   "execution_count": 10,
   "metadata": {},
   "outputs": [
    {
     "name": "stderr",
     "output_type": "stream",
     "text": [
      "/var/folders/z5/2dlc2_2d15qb0wmtpf41r0j00000gn/T/ipykernel_61661/340770513.py:223: SettingWithCopyWarning: \n",
      "A value is trying to be set on a copy of a slice from a DataFrame.\n",
      "Try using .loc[row_indexer,col_indexer] = value instead\n",
      "\n",
      "See the caveats in the documentation: https://pandas.pydata.org/pandas-docs/stable/user_guide/indexing.html#returning-a-view-versus-a-copy\n",
      "  service_requests['Category'] = service_requests['Service request type'].apply(categorize_service_request)\n"
     ]
    }
   ],
   "source": [
    "category_mapping = {\n",
    "    \"Environmental and Waste Management\": [\n",
    "        \"Dead Animal Pick Up Case\",\n",
    "        \"Abandoned Non-Recyclables-Large Case\",\n",
    "        \"Abandoned Non-Recyclables-Small Case\",\n",
    "        \"Abandoned Mattress Case\",\n",
    "        \"Garbage Bin Request Case\",\n",
    "        \"Green Bin Request Case\",\n",
    "        \"Missed Green Bin Pickup Case\",\n",
    "        \"Missed Garbage Bin Pickup Case\",\n",
    "        \"Illegal Dumping Case\",\n",
    "        \"Recycling and Disposal Facility - Landfill Inquiry Case\",\n",
    "        \"Recycling and Disposal Facility - Transfer Station Inquiry Case\",\n",
    "        \"Street Cleaning and Debris Pick Up Case\",\n",
    "        \"Needle Clean Up Case\",\n",
    "        \"Loose Litter Clean Up Case\",\n",
    "        \"Rats and Rodents Case\",\n",
    "        \"Feeding Wildlife Case\",\n",
    "        \"Street Surface Water Flooding Case\",\n",
    "        \"Commercial Waste Container Concern Case\",\n",
    "        \"Parks Operations and Maintenance Case\",\n",
    "        \"Parking Management Inquiry Case\",\n",
    "        \"Disposal Facility - Landfill Inquiry Case\",\n",
    "        \"Disposal Facility - Transfer Station Inquiry Case\",\n",
    "        \"Abandoned Recyclables Case\",\n",
    "        \"Sanitation Operations Inquiry Case\",\n",
    "        \"Snow and Ice Removal From City Property Case\",\n",
    "        \"Graffiti Management Program Case\",\n",
    "        \"Sewer Drainage and Design Inquiry Case\",\n",
    "        \"Street and Sidewalk Use Request Case\",\n",
    "    ],\n",
    "    \"Public Property Maintenance\": [\n",
    "        \"Street Repair Case\",\n",
    "        \"Sidewalk Repair Case\",\n",
    "        \"Street Light Out Case\",\n",
    "        \"Graffiti Removal - City Property Case\",\n",
    "        \"Graffiti Removal - Private Property Case\",\n",
    "        \"Graffiti Removal - Park Property Case\",\n",
    "        \"Graffiti Removal - Commercial Waste Container Case\",\n",
    "        \"Pavement Markings Case\",\n",
    "        \"Park Litter Can Case\",\n",
    "        \"Street Furniture Maintenance Case\",\n",
    "        \"Traffic Signal Repair Case\",\n",
    "        \"Bridge and Structures Maintenance Case\",\n",
    "        \"Vegetation Maintenance Case\",\n",
    "        \"Boulevard Maintenance Case\",\n",
    "        \"Meter Out of Order Internal Audit Case\",\n",
    "        \"Street or Traffic Light Utility Damage Case\",\n",
    "        \"Vegetation Encroachment of City Property Case\",\n",
    "        \"Street Furniture Litter Can Maintenance Case\",\n",
    "        \"Property Tax Request Case\",\n",
    "        \"City Clock Maintenance Case\",\n",
    "        \"ZZ OLD - Private Property Tree Removal Case\",\n",
    "        \"Preventative Maintenance Program Case\",\n",
    "        \"Sign Repair Case\",\n",
    "        \"Pavement Marking Maintenance Case\",\n",
    "    ],\n",
    "    \"Parks and Recreation\": [\n",
    "        \"Park Improvement Case\",\n",
    "        \"Urban Issues in Parks Case\",\n",
    "        \"Parks Feedback Case\",\n",
    "        \"Park Board Commissioner Feedback Case\",\n",
    "        \"Parks Washroom Servicing Case\",\n",
    "        \"Park Facility Maintenance Request\",\n",
    "        \"Canada Geese Nests Case\",\n",
    "        \"Recreation Feedback Case\",\n",
    "        \"Streets Horticulture Program Inquiry Case\",\n",
    "        \"Park Ranger Request Case\",\n",
    "    ],\n",
    "    \"Transportation and Traffic\": [\n",
    "        \"Residential Parking Permit Request Case\",\n",
    "        \"Parking Enforcement Transfer Case\",\n",
    "        \"Parking Enforcement Request Case\",\n",
    "        \"Parking Meter Request Case\",\n",
    "        \"Traffic Management Inquiry Case\",\n",
    "        \"Traffic Calming Case\",\n",
    "        \"Traffic Signal Timing Concern Case\",\n",
    "        \"Traffic and Pedestrian Signal - Modify Request Case\",\n",
    "        \"Traffic and Pedestrian Signal - New Request Case\",\n",
    "        \"Street Construction Concern Case\",\n",
    "        \"Curb Ramp Request Case\",\n",
    "        \"Traffic Sign - New Request Case\",\n",
    "        \"Traffic Sign - Modify Request Case\",\n",
    "        \"Pothole Case\",\n",
    "        \"Arterial St. Curbside Sign - Modify Request Case\",\n",
    "        \"Arterial St. Curbside Sign - New Request Case\",\n",
    "        \"School Traffic Concern Case\",\n",
    "        \"Transportation Design Project Inquiry Case\",\n",
    "        \"Community Transportation Request Case\",\n",
    "        \"Tower Crane Site Survey Case\",\n",
    "        \"ZZ OLD - Traffic Calming Case\",\n",
    "    ],\n",
    "    \"Residential and Private Property\": [\n",
    "        \"Noise on Private Property Case\",\n",
    "        \"Private Property Construction Concern Case\",\n",
    "        \"Private Property Construction Noise Case\",\n",
    "        \"Private Property Tree Removal Concern Case\",\n",
    "        \"Residential Cart Concern Case\",\n",
    "        \"Sidewalk Snow and Ice Removal Bylaw Violation Case\",\n",
    "        \"Unpermitted Construction Container Concern Case\",\n",
    "        \"Sewer Backup Case\",\n",
    "        \"Sewer Odour Case\",\n",
    "        \"High Water Consumption Concern Case\",\n",
    "        \"Damage to Water System Case\",\n",
    "        \"Water Leak Case\",\n",
    "        \"Water Pressure Concern Case\",\n",
    "        \"Residential Street Curbside Sign Request Case\",\n",
    "        \"Private Property Concern Case\",\n",
    "        \"Private Property Inquiry Case\",\n",
    "    ],\n",
    "    \"Permits and Licenses\": [\n",
    "        \"Business Licence Request Case\",\n",
    "        \"Dog Licence Case\",\n",
    "        \"Security Alarm Permit (Revenue Services) Case\",\n",
    "        \"Security Alarm Permit (VPD) Case\",\n",
    "        \"Water Exemption Permit Request Case\",\n",
    "        \"Short-Term Rental Concern Case\",\n",
    "        \"Short-Term Rental Request Case\",\n",
    "        \"Tour Bus Permit Case\",\n",
    "        \"Fire Inspection Request Case\",\n",
    "    ],\n",
    "    \"Feedback and Inquiries\": [\n",
    "        \"General Feedback Case\",\n",
    "        \"City Services Feedback Case\",\n",
    "        \"Van311 Feedback Case\",\n",
    "        \"Mayor and Council Feedback Case\",\n",
    "        \"Website Feedback Case\",\n",
    "        \"Employee Feedback Case\",\n",
    "        \"Public Hearing Feedback Case\",\n",
    "        \"Park Board Commissioner Feedback Case\",\n",
    "        \"Election Inquiry Case\",\n",
    "        \"Recreation Feedback Case\",\n",
    "        \"Accessibility Feedback Case\",\n",
    "        \"City Manager Feedback Case\",\n",
    "    ],\n",
    "    \"Utilities and Infrastructure\": [\n",
    "        \"Sewer Operations Inquiry Case\",\n",
    "        \"Sewer Construction Concern Case\",\n",
    "        \"Waterworks General Work Request Case\",\n",
    "        \"Water Meter Reading Request Case\",\n",
    "        \"Waterworks Operations Construction Concern Case\",\n",
    "        \"Sewer Maintenance Hole Concern Case\",\n",
    "        \"Catch Basin Concern Case\",\n",
    "        \"Sewer Utility Damage Case\",\n",
    "        \"Locate Water Service Line or Valve Case\",\n",
    "        \"Water Service Line Turn On or Off Request Case\",\n",
    "        \"Water Design Inquiry Case\",\n",
    "        \"Water Hydrant Concern Case\",\n",
    "        \"Waterworks Request Case\",\n",
    "        \"Utility Billing Request Case\",\n",
    "    ],\n",
    "    \"Urban Planning and Development\": [\n",
    "        \"Urban Planning Request Case\",\n",
    "        \"Building and Development Inquiry Case\",\n",
    "        \"Local Improvement Program Case\",\n",
    "        \"Gastown Public Space Plan Request Case\",\n",
    "        \"Planner Appointment Request Case\",\n",
    "        \"Business Licence Change of Use (Five Uses) Case\",\n",
    "        \"Character Merit Assessment Request Case\",\n",
    "        \"Construction Related Concerns Case\",\n",
    "        \"Vancouver Building Bylaw Inquiry Case\",\n",
    "    ],\n",
    "    \"Emergency and Safety\": [\n",
    "        \"Fire Safety Hazards Case\",\n",
    "        \"Fire Prevention Inquiry Case\",\n",
    "        \"High Angle Rescue Inquiry Case\",\n",
    "        \"Home Safety Check Request Case\",\n",
    "        \"Emergency Referral Tracking Report Case\",\n",
    "        \"Snow Angel Program Request Case\",\n",
    "        \"Request Fire Reinspection (Inspector) Case\",\n",
    "        \"Request Fire Reinspection (Firehall) Case\",\n",
    "        \"Animal Concern Case\",\n",
    "        \"Animal Services Inquiry Case\",\n",
    "    ],\n",
    "    \"Sustainability and Environmental Concerns\": [\n",
    "        \"Sustainability Inquiry Case\",\n",
    "        \"Water Conservation Violation Case\",\n",
    "        \"Environmental Protection Inquiry Case\",\n",
    "        \"Environmental Contamination Concern Case\",\n",
    "        \"Single-Use Item Bylaw Request Case\",\n",
    "        \"Adopt a Catch Basin Program Inquiry Case\",\n",
    "        \"Free Paint Voucher Request Case\",\n",
    "    ],\n",
    "    \"Other Services\": [\n",
    "        \"Filming Office Request Case\",\n",
    "        \"Filming Inquiry Case\",\n",
    "        \"Customer Service Service Request Case\",\n",
    "        \"Newspaper Box Concern Case\",\n",
    "        \"Address Change Request Case\",\n",
    "        \"Transit Related Request Case\",\n",
    "        \"Street Furniture Request Case\",\n",
    "        \"Special Events Office Request Case\",\n",
    "        \"Special Events Inquiry Case\",\n",
    "        \"Hoarding Request Case\",\n",
    "        \"Non-Vegetative Encroachment Case\",\n",
    "        \"Hot Topic Case\",\n",
    "        \"Lockbox Request Case\",\n",
    "        \"Lost Pets Case\",\n",
    "        \"Moving and Storage Container Concern Case\",\n",
    "        \"New Crosswalk Marking Case\",\n",
    "        \"New Litter Can Request Case\",\n",
    "        \"New or Relocate Street Light Pole Case\",\n",
    "        \"Parking Meter Refund Request Case\",\n",
    "        \"Parking Ticket Review Case\",\n",
    "        \"Fireworks Request Case\",\n",
    "        \"Business Patio Inquiry Case\",\n",
    "        \"Business Support Request Case\",\n",
    "        \"Commercial Street Curbside Sign Request Case\",\n",
    "        \"Neighbourhood Energy Utility Request Case\",\n",
    "        \"Neighbourhood Energy Utility Issue Case\",\n",
    "        \"Commercial Waste Container Concern Case\",\n",
    "        \"Traffic Operations Construction Concern Case\",\n",
    "        \"Sign Cleaning Case\",\n",
    "        \"City Construction Project Concern Case\",\n",
    "        \"General Street Issues Case\",\n",
    "    ],\n",
    "}\n",
    "def categorize_service_request(request_type):\n",
    "    for category, requests in category_mapping.items():\n",
    "        if request_type in requests:\n",
    "            return category\n",
    "    return \"Other\"\n",
    "service_requests['Category'] = service_requests['Service request type'].apply(categorize_service_request)\n",
    "service_requests.to_csv('data/311service-requests.csv', index=False)"
   ]
  },
  {
   "cell_type": "code",
   "execution_count": 11,
   "metadata": {},
   "outputs": [
    {
     "data": {
      "text/html": [
       "<div>\n",
       "<style scoped>\n",
       "    .dataframe tbody tr th:only-of-type {\n",
       "        vertical-align: middle;\n",
       "    }\n",
       "\n",
       "    .dataframe tbody tr th {\n",
       "        vertical-align: top;\n",
       "    }\n",
       "\n",
       "    .dataframe thead th {\n",
       "        text-align: right;\n",
       "    }\n",
       "</style>\n",
       "<table border=\"1\" class=\"dataframe\">\n",
       "  <thead>\n",
       "    <tr style=\"text-align: right;\">\n",
       "      <th></th>\n",
       "      <th>Department</th>\n",
       "      <th>Service request type</th>\n",
       "      <th>Status</th>\n",
       "      <th>Closure reason</th>\n",
       "      <th>Service request open timestamp</th>\n",
       "      <th>Service request close date</th>\n",
       "      <th>Local area</th>\n",
       "      <th>Channel</th>\n",
       "      <th>Category</th>\n",
       "    </tr>\n",
       "  </thead>\n",
       "  <tbody>\n",
       "    <tr>\n",
       "      <th>0</th>\n",
       "      <td>ENG - Parking Management</td>\n",
       "      <td>Residential Parking Permit Request Case</td>\n",
       "      <td>Close</td>\n",
       "      <td>Unknown</td>\n",
       "      <td>2022-09-16T20:21:59-07:00</td>\n",
       "      <td>2023-10-19</td>\n",
       "      <td>Sunset</td>\n",
       "      <td>Phone</td>\n",
       "      <td>Transportation and Traffic</td>\n",
       "    </tr>\n",
       "    <tr>\n",
       "      <th>1</th>\n",
       "      <td>PR - Urban Forestry</td>\n",
       "      <td>City and Park Trees Maintenance Case</td>\n",
       "      <td>Close</td>\n",
       "      <td>Further action has been planned</td>\n",
       "      <td>2022-09-16T20:31:00-07:00</td>\n",
       "      <td>2022-09-21</td>\n",
       "      <td>Mount Pleasant</td>\n",
       "      <td>Phone</td>\n",
       "      <td>Other</td>\n",
       "    </tr>\n",
       "    <tr>\n",
       "      <th>2</th>\n",
       "      <td>ENG - Sanitation Services</td>\n",
       "      <td>Dead Animal Pick Up Case</td>\n",
       "      <td>Close</td>\n",
       "      <td>Issue not found or inaccessible</td>\n",
       "      <td>2022-09-16T20:36:00-07:00</td>\n",
       "      <td>2022-09-22</td>\n",
       "      <td>Renfrew-Collingwood</td>\n",
       "      <td>Phone</td>\n",
       "      <td>Environmental and Waste Management</td>\n",
       "    </tr>\n",
       "    <tr>\n",
       "      <th>3</th>\n",
       "      <td>ENG - Parking Enforcement and Operations</td>\n",
       "      <td>Parking Enforcement Transfer Case</td>\n",
       "      <td>Close</td>\n",
       "      <td>Unknown</td>\n",
       "      <td>2022-09-16T20:37:36-07:00</td>\n",
       "      <td>2022-09-16</td>\n",
       "      <td>NaN</td>\n",
       "      <td>Phone</td>\n",
       "      <td>Transportation and Traffic</td>\n",
       "    </tr>\n",
       "    <tr>\n",
       "      <th>4</th>\n",
       "      <td>DBL - Services Centre</td>\n",
       "      <td>Building and Development Inquiry Case</td>\n",
       "      <td>Close</td>\n",
       "      <td>Service provided</td>\n",
       "      <td>2022-09-16T20:58:00-07:00</td>\n",
       "      <td>2022-09-20</td>\n",
       "      <td>NaN</td>\n",
       "      <td>WEB</td>\n",
       "      <td>Urban Planning and Development</td>\n",
       "    </tr>\n",
       "  </tbody>\n",
       "</table>\n",
       "</div>"
      ],
      "text/plain": [
       "                                 Department  \\\n",
       "0                  ENG - Parking Management   \n",
       "1                       PR - Urban Forestry   \n",
       "2                 ENG - Sanitation Services   \n",
       "3  ENG - Parking Enforcement and Operations   \n",
       "4                     DBL - Services Centre   \n",
       "\n",
       "                      Service request type Status  \\\n",
       "0  Residential Parking Permit Request Case  Close   \n",
       "1     City and Park Trees Maintenance Case  Close   \n",
       "2                 Dead Animal Pick Up Case  Close   \n",
       "3        Parking Enforcement Transfer Case  Close   \n",
       "4    Building and Development Inquiry Case  Close   \n",
       "\n",
       "                    Closure reason Service request open timestamp  \\\n",
       "0                          Unknown      2022-09-16T20:21:59-07:00   \n",
       "1  Further action has been planned      2022-09-16T20:31:00-07:00   \n",
       "2  Issue not found or inaccessible      2022-09-16T20:36:00-07:00   \n",
       "3                          Unknown      2022-09-16T20:37:36-07:00   \n",
       "4                 Service provided      2022-09-16T20:58:00-07:00   \n",
       "\n",
       "  Service request close date           Local area Channel  \\\n",
       "0                 2023-10-19               Sunset   Phone   \n",
       "1                 2022-09-21       Mount Pleasant   Phone   \n",
       "2                 2022-09-22  Renfrew-Collingwood   Phone   \n",
       "3                 2022-09-16                  NaN   Phone   \n",
       "4                 2022-09-20                  NaN     WEB   \n",
       "\n",
       "                             Category  \n",
       "0          Transportation and Traffic  \n",
       "1                               Other  \n",
       "2  Environmental and Waste Management  \n",
       "3          Transportation and Traffic  \n",
       "4      Urban Planning and Development  "
      ]
     },
     "execution_count": 11,
     "metadata": {},
     "output_type": "execute_result"
    }
   ],
   "source": [
    "service_requests.head()"
   ]
  },
  {
   "cell_type": "code",
   "execution_count": null,
   "metadata": {},
   "outputs": [],
   "source": []
  },
  {
   "cell_type": "code",
   "execution_count": 14,
   "metadata": {},
   "outputs": [
    {
     "data": {
      "application/vnd.plotly.v1+json": {
       "config": {
        "plotlyServerURL": "https://plot.ly"
       },
       "data": [
        {
         "alignmentgroup": "True",
         "hovertemplate": "Category=Urban Planning and Development<br>Service Request Type=%{x}<br>Number of Requests=%{text}<extra></extra>",
         "legendgroup": "Urban Planning and Development",
         "marker": {
          "color": "#636efa",
          "pattern": {
           "shape": ""
          }
         },
         "name": "Urban Planning and Development",
         "offsetgroup": "Urban Planning and Development",
         "orientation": "v",
         "showlegend": true,
         "text": [
          57784
         ],
         "textposition": "auto",
         "type": "bar",
         "x": [
          "Building and Development Inquiry Case"
         ],
         "xaxis": "x",
         "y": [
          57784
         ],
         "yaxis": "y"
        },
        {
         "alignmentgroup": "True",
         "hovertemplate": "Category=Permits and Licenses<br>Service Request Type=%{x}<br>Number of Requests=%{text}<extra></extra>",
         "legendgroup": "Permits and Licenses",
         "marker": {
          "color": "#EF553B",
          "pattern": {
           "shape": ""
          }
         },
         "name": "Permits and Licenses",
         "offsetgroup": "Permits and Licenses",
         "orientation": "v",
         "showlegend": true,
         "text": [
          34619
         ],
         "textposition": "auto",
         "type": "bar",
         "x": [
          "Business Licence Request Case"
         ],
         "xaxis": "x",
         "y": [
          34619
         ],
         "yaxis": "y"
        },
        {
         "alignmentgroup": "True",
         "hovertemplate": "Category=Environmental and Waste Management<br>Service Request Type=%{x}<br>Number of Requests=%{text}<extra></extra>",
         "legendgroup": "Environmental and Waste Management",
         "marker": {
          "color": "#00cc96",
          "pattern": {
           "shape": ""
          }
         },
         "name": "Environmental and Waste Management",
         "offsetgroup": "Environmental and Waste Management",
         "orientation": "v",
         "showlegend": true,
         "text": [
          30734,
          24263,
          21392,
          18360,
          16693,
          8914
         ],
         "textposition": "auto",
         "type": "bar",
         "x": [
          "Missed Green Bin Pickup Case",
          "Garbage Bin Request Case",
          "Missed Garbage Bin Pickup Case",
          "Abandoned Non-Recyclables-Small Case",
          "Green Bin Request Case",
          "Abandoned Recyclables Case"
         ],
         "xaxis": "x",
         "y": [
          30734,
          24263,
          21392,
          18360,
          16693,
          8914
         ],
         "yaxis": "y"
        },
        {
         "alignmentgroup": "True",
         "hovertemplate": "Category=Other<br>Service Request Type=%{x}<br>Number of Requests=%{text}<extra></extra>",
         "legendgroup": "Other",
         "marker": {
          "color": "#ab63fa",
          "pattern": {
           "shape": ""
          }
         },
         "name": "Other",
         "offsetgroup": "Other",
         "orientation": "v",
         "showlegend": true,
         "text": [
          25780,
          10176
         ],
         "textposition": "auto",
         "type": "bar",
         "x": [
          "City and Park Trees Maintenance Case",
          "Abandoned or Uninsured Vehicle Case"
         ],
         "xaxis": "x",
         "y": [
          25780,
          10176
         ],
         "yaxis": "y"
        },
        {
         "alignmentgroup": "True",
         "hovertemplate": "Category=Feedback and Inquiries<br>Service Request Type=%{x}<br>Number of Requests=%{text}<extra></extra>",
         "legendgroup": "Feedback and Inquiries",
         "marker": {
          "color": "#FFA15A",
          "pattern": {
           "shape": ""
          }
         },
         "name": "Feedback and Inquiries",
         "offsetgroup": "Feedback and Inquiries",
         "orientation": "v",
         "showlegend": true,
         "text": [
          22020,
          15092,
          12899
         ],
         "textposition": "auto",
         "type": "bar",
         "x": [
          "Mayor and Council Feedback Case",
          "City Services Feedback Case",
          "General Feedback Case"
         ],
         "xaxis": "x",
         "y": [
          22020,
          15092,
          12899
         ],
         "yaxis": "y"
        },
        {
         "alignmentgroup": "True",
         "hovertemplate": "Category=Transportation and Traffic<br>Service Request Type=%{x}<br>Number of Requests=%{text}<extra></extra>",
         "legendgroup": "Transportation and Traffic",
         "marker": {
          "color": "#19d3f3",
          "pattern": {
           "shape": ""
          }
         },
         "name": "Transportation and Traffic",
         "offsetgroup": "Transportation and Traffic",
         "orientation": "v",
         "showlegend": true,
         "text": [
          17910,
          8158
         ],
         "textposition": "auto",
         "type": "bar",
         "x": [
          "Parking Enforcement Transfer Case",
          "Pothole Case"
         ],
         "xaxis": "x",
         "y": [
          17910,
          8158
         ],
         "yaxis": "y"
        },
        {
         "alignmentgroup": "True",
         "hovertemplate": "Category=Residential and Private Property<br>Service Request Type=%{x}<br>Number of Requests=%{text}<extra></extra>",
         "legendgroup": "Residential and Private Property",
         "marker": {
          "color": "#FF6692",
          "pattern": {
           "shape": ""
          }
         },
         "name": "Residential and Private Property",
         "offsetgroup": "Residential and Private Property",
         "orientation": "v",
         "showlegend": true,
         "text": [
          10785,
          9247
         ],
         "textposition": "auto",
         "type": "bar",
         "x": [
          "Noise on Private Property Case",
          "Private Property Concern Case"
         ],
         "xaxis": "x",
         "y": [
          10785,
          9247
         ],
         "yaxis": "y"
        },
        {
         "alignmentgroup": "True",
         "hovertemplate": "Category=Public Property Maintenance<br>Service Request Type=%{x}<br>Number of Requests=%{text}<extra></extra>",
         "legendgroup": "Public Property Maintenance",
         "marker": {
          "color": "#B6E880",
          "pattern": {
           "shape": ""
          }
         },
         "name": "Public Property Maintenance",
         "offsetgroup": "Public Property Maintenance",
         "orientation": "v",
         "showlegend": true,
         "text": [
          10167,
          8222
         ],
         "textposition": "auto",
         "type": "bar",
         "x": [
          "Meter Out of Order Internal Audit Case",
          "Street Light Out Case"
         ],
         "xaxis": "x",
         "y": [
          10167,
          8222
         ],
         "yaxis": "y"
        },
        {
         "alignmentgroup": "True",
         "hovertemplate": "Category=Emergency and Safety<br>Service Request Type=%{x}<br>Number of Requests=%{text}<extra></extra>",
         "legendgroup": "Emergency and Safety",
         "marker": {
          "color": "#FF97FF",
          "pattern": {
           "shape": ""
          }
         },
         "name": "Emergency and Safety",
         "offsetgroup": "Emergency and Safety",
         "orientation": "v",
         "showlegend": true,
         "text": [
          9487
         ],
         "textposition": "auto",
         "type": "bar",
         "x": [
          "Animal Concern Case"
         ],
         "xaxis": "x",
         "y": [
          9487
         ],
         "yaxis": "y"
        }
       ],
       "layout": {
        "barmode": "relative",
        "height": 600,
        "legend": {
         "title": {
          "text": "Category"
         },
         "tracegroupgap": 0
        },
        "template": {
         "data": {
          "bar": [
           {
            "error_x": {
             "color": "#2a3f5f"
            },
            "error_y": {
             "color": "#2a3f5f"
            },
            "marker": {
             "line": {
              "color": "#E5ECF6",
              "width": 0.5
             },
             "pattern": {
              "fillmode": "overlay",
              "size": 10,
              "solidity": 0.2
             }
            },
            "type": "bar"
           }
          ],
          "barpolar": [
           {
            "marker": {
             "line": {
              "color": "#E5ECF6",
              "width": 0.5
             },
             "pattern": {
              "fillmode": "overlay",
              "size": 10,
              "solidity": 0.2
             }
            },
            "type": "barpolar"
           }
          ],
          "carpet": [
           {
            "aaxis": {
             "endlinecolor": "#2a3f5f",
             "gridcolor": "white",
             "linecolor": "white",
             "minorgridcolor": "white",
             "startlinecolor": "#2a3f5f"
            },
            "baxis": {
             "endlinecolor": "#2a3f5f",
             "gridcolor": "white",
             "linecolor": "white",
             "minorgridcolor": "white",
             "startlinecolor": "#2a3f5f"
            },
            "type": "carpet"
           }
          ],
          "choropleth": [
           {
            "colorbar": {
             "outlinewidth": 0,
             "ticks": ""
            },
            "type": "choropleth"
           }
          ],
          "contour": [
           {
            "colorbar": {
             "outlinewidth": 0,
             "ticks": ""
            },
            "colorscale": [
             [
              0,
              "#0d0887"
             ],
             [
              0.1111111111111111,
              "#46039f"
             ],
             [
              0.2222222222222222,
              "#7201a8"
             ],
             [
              0.3333333333333333,
              "#9c179e"
             ],
             [
              0.4444444444444444,
              "#bd3786"
             ],
             [
              0.5555555555555556,
              "#d8576b"
             ],
             [
              0.6666666666666666,
              "#ed7953"
             ],
             [
              0.7777777777777778,
              "#fb9f3a"
             ],
             [
              0.8888888888888888,
              "#fdca26"
             ],
             [
              1,
              "#f0f921"
             ]
            ],
            "type": "contour"
           }
          ],
          "contourcarpet": [
           {
            "colorbar": {
             "outlinewidth": 0,
             "ticks": ""
            },
            "type": "contourcarpet"
           }
          ],
          "heatmap": [
           {
            "colorbar": {
             "outlinewidth": 0,
             "ticks": ""
            },
            "colorscale": [
             [
              0,
              "#0d0887"
             ],
             [
              0.1111111111111111,
              "#46039f"
             ],
             [
              0.2222222222222222,
              "#7201a8"
             ],
             [
              0.3333333333333333,
              "#9c179e"
             ],
             [
              0.4444444444444444,
              "#bd3786"
             ],
             [
              0.5555555555555556,
              "#d8576b"
             ],
             [
              0.6666666666666666,
              "#ed7953"
             ],
             [
              0.7777777777777778,
              "#fb9f3a"
             ],
             [
              0.8888888888888888,
              "#fdca26"
             ],
             [
              1,
              "#f0f921"
             ]
            ],
            "type": "heatmap"
           }
          ],
          "heatmapgl": [
           {
            "colorbar": {
             "outlinewidth": 0,
             "ticks": ""
            },
            "colorscale": [
             [
              0,
              "#0d0887"
             ],
             [
              0.1111111111111111,
              "#46039f"
             ],
             [
              0.2222222222222222,
              "#7201a8"
             ],
             [
              0.3333333333333333,
              "#9c179e"
             ],
             [
              0.4444444444444444,
              "#bd3786"
             ],
             [
              0.5555555555555556,
              "#d8576b"
             ],
             [
              0.6666666666666666,
              "#ed7953"
             ],
             [
              0.7777777777777778,
              "#fb9f3a"
             ],
             [
              0.8888888888888888,
              "#fdca26"
             ],
             [
              1,
              "#f0f921"
             ]
            ],
            "type": "heatmapgl"
           }
          ],
          "histogram": [
           {
            "marker": {
             "pattern": {
              "fillmode": "overlay",
              "size": 10,
              "solidity": 0.2
             }
            },
            "type": "histogram"
           }
          ],
          "histogram2d": [
           {
            "colorbar": {
             "outlinewidth": 0,
             "ticks": ""
            },
            "colorscale": [
             [
              0,
              "#0d0887"
             ],
             [
              0.1111111111111111,
              "#46039f"
             ],
             [
              0.2222222222222222,
              "#7201a8"
             ],
             [
              0.3333333333333333,
              "#9c179e"
             ],
             [
              0.4444444444444444,
              "#bd3786"
             ],
             [
              0.5555555555555556,
              "#d8576b"
             ],
             [
              0.6666666666666666,
              "#ed7953"
             ],
             [
              0.7777777777777778,
              "#fb9f3a"
             ],
             [
              0.8888888888888888,
              "#fdca26"
             ],
             [
              1,
              "#f0f921"
             ]
            ],
            "type": "histogram2d"
           }
          ],
          "histogram2dcontour": [
           {
            "colorbar": {
             "outlinewidth": 0,
             "ticks": ""
            },
            "colorscale": [
             [
              0,
              "#0d0887"
             ],
             [
              0.1111111111111111,
              "#46039f"
             ],
             [
              0.2222222222222222,
              "#7201a8"
             ],
             [
              0.3333333333333333,
              "#9c179e"
             ],
             [
              0.4444444444444444,
              "#bd3786"
             ],
             [
              0.5555555555555556,
              "#d8576b"
             ],
             [
              0.6666666666666666,
              "#ed7953"
             ],
             [
              0.7777777777777778,
              "#fb9f3a"
             ],
             [
              0.8888888888888888,
              "#fdca26"
             ],
             [
              1,
              "#f0f921"
             ]
            ],
            "type": "histogram2dcontour"
           }
          ],
          "mesh3d": [
           {
            "colorbar": {
             "outlinewidth": 0,
             "ticks": ""
            },
            "type": "mesh3d"
           }
          ],
          "parcoords": [
           {
            "line": {
             "colorbar": {
              "outlinewidth": 0,
              "ticks": ""
             }
            },
            "type": "parcoords"
           }
          ],
          "pie": [
           {
            "automargin": true,
            "type": "pie"
           }
          ],
          "scatter": [
           {
            "fillpattern": {
             "fillmode": "overlay",
             "size": 10,
             "solidity": 0.2
            },
            "type": "scatter"
           }
          ],
          "scatter3d": [
           {
            "line": {
             "colorbar": {
              "outlinewidth": 0,
              "ticks": ""
             }
            },
            "marker": {
             "colorbar": {
              "outlinewidth": 0,
              "ticks": ""
             }
            },
            "type": "scatter3d"
           }
          ],
          "scattercarpet": [
           {
            "marker": {
             "colorbar": {
              "outlinewidth": 0,
              "ticks": ""
             }
            },
            "type": "scattercarpet"
           }
          ],
          "scattergeo": [
           {
            "marker": {
             "colorbar": {
              "outlinewidth": 0,
              "ticks": ""
             }
            },
            "type": "scattergeo"
           }
          ],
          "scattergl": [
           {
            "marker": {
             "colorbar": {
              "outlinewidth": 0,
              "ticks": ""
             }
            },
            "type": "scattergl"
           }
          ],
          "scattermapbox": [
           {
            "marker": {
             "colorbar": {
              "outlinewidth": 0,
              "ticks": ""
             }
            },
            "type": "scattermapbox"
           }
          ],
          "scatterpolar": [
           {
            "marker": {
             "colorbar": {
              "outlinewidth": 0,
              "ticks": ""
             }
            },
            "type": "scatterpolar"
           }
          ],
          "scatterpolargl": [
           {
            "marker": {
             "colorbar": {
              "outlinewidth": 0,
              "ticks": ""
             }
            },
            "type": "scatterpolargl"
           }
          ],
          "scatterternary": [
           {
            "marker": {
             "colorbar": {
              "outlinewidth": 0,
              "ticks": ""
             }
            },
            "type": "scatterternary"
           }
          ],
          "surface": [
           {
            "colorbar": {
             "outlinewidth": 0,
             "ticks": ""
            },
            "colorscale": [
             [
              0,
              "#0d0887"
             ],
             [
              0.1111111111111111,
              "#46039f"
             ],
             [
              0.2222222222222222,
              "#7201a8"
             ],
             [
              0.3333333333333333,
              "#9c179e"
             ],
             [
              0.4444444444444444,
              "#bd3786"
             ],
             [
              0.5555555555555556,
              "#d8576b"
             ],
             [
              0.6666666666666666,
              "#ed7953"
             ],
             [
              0.7777777777777778,
              "#fb9f3a"
             ],
             [
              0.8888888888888888,
              "#fdca26"
             ],
             [
              1,
              "#f0f921"
             ]
            ],
            "type": "surface"
           }
          ],
          "table": [
           {
            "cells": {
             "fill": {
              "color": "#EBF0F8"
             },
             "line": {
              "color": "white"
             }
            },
            "header": {
             "fill": {
              "color": "#C8D4E3"
             },
             "line": {
              "color": "white"
             }
            },
            "type": "table"
           }
          ]
         },
         "layout": {
          "annotationdefaults": {
           "arrowcolor": "#2a3f5f",
           "arrowhead": 0,
           "arrowwidth": 1
          },
          "autotypenumbers": "strict",
          "coloraxis": {
           "colorbar": {
            "outlinewidth": 0,
            "ticks": ""
           }
          },
          "colorscale": {
           "diverging": [
            [
             0,
             "#8e0152"
            ],
            [
             0.1,
             "#c51b7d"
            ],
            [
             0.2,
             "#de77ae"
            ],
            [
             0.3,
             "#f1b6da"
            ],
            [
             0.4,
             "#fde0ef"
            ],
            [
             0.5,
             "#f7f7f7"
            ],
            [
             0.6,
             "#e6f5d0"
            ],
            [
             0.7,
             "#b8e186"
            ],
            [
             0.8,
             "#7fbc41"
            ],
            [
             0.9,
             "#4d9221"
            ],
            [
             1,
             "#276419"
            ]
           ],
           "sequential": [
            [
             0,
             "#0d0887"
            ],
            [
             0.1111111111111111,
             "#46039f"
            ],
            [
             0.2222222222222222,
             "#7201a8"
            ],
            [
             0.3333333333333333,
             "#9c179e"
            ],
            [
             0.4444444444444444,
             "#bd3786"
            ],
            [
             0.5555555555555556,
             "#d8576b"
            ],
            [
             0.6666666666666666,
             "#ed7953"
            ],
            [
             0.7777777777777778,
             "#fb9f3a"
            ],
            [
             0.8888888888888888,
             "#fdca26"
            ],
            [
             1,
             "#f0f921"
            ]
           ],
           "sequentialminus": [
            [
             0,
             "#0d0887"
            ],
            [
             0.1111111111111111,
             "#46039f"
            ],
            [
             0.2222222222222222,
             "#7201a8"
            ],
            [
             0.3333333333333333,
             "#9c179e"
            ],
            [
             0.4444444444444444,
             "#bd3786"
            ],
            [
             0.5555555555555556,
             "#d8576b"
            ],
            [
             0.6666666666666666,
             "#ed7953"
            ],
            [
             0.7777777777777778,
             "#fb9f3a"
            ],
            [
             0.8888888888888888,
             "#fdca26"
            ],
            [
             1,
             "#f0f921"
            ]
           ]
          },
          "colorway": [
           "#636efa",
           "#EF553B",
           "#00cc96",
           "#ab63fa",
           "#FFA15A",
           "#19d3f3",
           "#FF6692",
           "#B6E880",
           "#FF97FF",
           "#FECB52"
          ],
          "font": {
           "color": "#2a3f5f"
          },
          "geo": {
           "bgcolor": "white",
           "lakecolor": "white",
           "landcolor": "#E5ECF6",
           "showlakes": true,
           "showland": true,
           "subunitcolor": "white"
          },
          "hoverlabel": {
           "align": "left"
          },
          "hovermode": "closest",
          "mapbox": {
           "style": "light"
          },
          "paper_bgcolor": "white",
          "plot_bgcolor": "#E5ECF6",
          "polar": {
           "angularaxis": {
            "gridcolor": "white",
            "linecolor": "white",
            "ticks": ""
           },
           "bgcolor": "#E5ECF6",
           "radialaxis": {
            "gridcolor": "white",
            "linecolor": "white",
            "ticks": ""
           }
          },
          "scene": {
           "xaxis": {
            "backgroundcolor": "#E5ECF6",
            "gridcolor": "white",
            "gridwidth": 2,
            "linecolor": "white",
            "showbackground": true,
            "ticks": "",
            "zerolinecolor": "white"
           },
           "yaxis": {
            "backgroundcolor": "#E5ECF6",
            "gridcolor": "white",
            "gridwidth": 2,
            "linecolor": "white",
            "showbackground": true,
            "ticks": "",
            "zerolinecolor": "white"
           },
           "zaxis": {
            "backgroundcolor": "#E5ECF6",
            "gridcolor": "white",
            "gridwidth": 2,
            "linecolor": "white",
            "showbackground": true,
            "ticks": "",
            "zerolinecolor": "white"
           }
          },
          "shapedefaults": {
           "line": {
            "color": "#2a3f5f"
           }
          },
          "ternary": {
           "aaxis": {
            "gridcolor": "white",
            "linecolor": "white",
            "ticks": ""
           },
           "baxis": {
            "gridcolor": "white",
            "linecolor": "white",
            "ticks": ""
           },
           "bgcolor": "#E5ECF6",
           "caxis": {
            "gridcolor": "white",
            "linecolor": "white",
            "ticks": ""
           }
          },
          "title": {
           "x": 0.05
          },
          "xaxis": {
           "automargin": true,
           "gridcolor": "white",
           "linecolor": "white",
           "ticks": "",
           "title": {
            "standoff": 15
           },
           "zerolinecolor": "white",
           "zerolinewidth": 2
          },
          "yaxis": {
           "automargin": true,
           "gridcolor": "white",
           "linecolor": "white",
           "ticks": "",
           "title": {
            "standoff": 15
           },
           "zerolinecolor": "white",
           "zerolinewidth": 2
          }
         }
        },
        "title": {
         "text": "Top 20 Service Request Types by Category"
        },
        "width": 900,
        "xaxis": {
         "anchor": "y",
         "domain": [
          0,
          1
         ],
         "tickangle": 45,
         "title": {
          "text": "Service Request Type"
         }
        },
        "yaxis": {
         "anchor": "x",
         "domain": [
          0,
          1
         ],
         "title": {
          "text": "Count"
         }
        }
       }
      }
     },
     "metadata": {},
     "output_type": "display_data"
    }
   ],
   "source": [
    "\n",
    "import plotly.express as px\n",
    "\n",
    "df = service_requests\n",
    "\n",
    "# Count occurrences of service request types and categories\n",
    "service_request_counts = (\n",
    "    df.groupby([\"Service request type\", \"Category\"])\n",
    "    .size()\n",
    "    .reset_index(name=\"Count\")\n",
    ")\n",
    "\n",
    "# Sort by count and select top 20\n",
    "top_20 = service_request_counts.sort_values(by=\"Count\", ascending=False).head(20)\n",
    "\n",
    "# Plot with Plotly\n",
    "fig = px.bar(\n",
    "    top_20,\n",
    "    x=\"Service request type\",\n",
    "    y=\"Count\",\n",
    "    color=\"Category\",\n",
    "    title=\"Top 20 Service Request Types by Category\",\n",
    "    labels={\"Service request type\": \"Service Request Type\", \"Count\": \"Number of Requests\"},\n",
    "    text=\"Count\",\n",
    ")\n",
    "\n",
    "# Customize layout\n",
    "fig.update_layout(\n",
    "    xaxis_tickangle=45,\n",
    "    xaxis_title=\"Service Request Type\",\n",
    "    yaxis_title=\"Count\",\n",
    "    legend_title=\"Category\",\n",
    "    height=600,\n",
    "    width=900\n",
    ")\n",
    "\n",
    "# Display in Streamlit\n",
    "# st.plotly_chart(fig)"
   ]
  },
  {
   "cell_type": "code",
   "execution_count": 26,
   "metadata": {},
   "outputs": [
    {
     "name": "stderr",
     "output_type": "stream",
     "text": [
      "/var/folders/z5/2dlc2_2d15qb0wmtpf41r0j00000gn/T/ipykernel_61661/2897494017.py:2: SettingWithCopyWarning:\n",
      "\n",
      "\n",
      "A value is trying to be set on a copy of a slice from a DataFrame.\n",
      "Try using .loc[row_indexer,col_indexer] = value instead\n",
      "\n",
      "See the caveats in the documentation: https://pandas.pydata.org/pandas-docs/stable/user_guide/indexing.html#returning-a-view-versus-a-copy\n",
      "\n",
      "/var/folders/z5/2dlc2_2d15qb0wmtpf41r0j00000gn/T/ipykernel_61661/2897494017.py:5: SettingWithCopyWarning:\n",
      "\n",
      "\n",
      "A value is trying to be set on a copy of a slice from a DataFrame.\n",
      "Try using .loc[row_indexer,col_indexer] = value instead\n",
      "\n",
      "See the caveats in the documentation: https://pandas.pydata.org/pandas-docs/stable/user_guide/indexing.html#returning-a-view-versus-a-copy\n",
      "\n",
      "/var/folders/z5/2dlc2_2d15qb0wmtpf41r0j00000gn/T/ipykernel_61661/2897494017.py:6: SettingWithCopyWarning:\n",
      "\n",
      "\n",
      "A value is trying to be set on a copy of a slice from a DataFrame.\n",
      "Try using .loc[row_indexer,col_indexer] = value instead\n",
      "\n",
      "See the caveats in the documentation: https://pandas.pydata.org/pandas-docs/stable/user_guide/indexing.html#returning-a-view-versus-a-copy\n",
      "\n",
      "/var/folders/z5/2dlc2_2d15qb0wmtpf41r0j00000gn/T/ipykernel_61661/2897494017.py:7: SettingWithCopyWarning:\n",
      "\n",
      "\n",
      "A value is trying to be set on a copy of a slice from a DataFrame.\n",
      "Try using .loc[row_indexer,col_indexer] = value instead\n",
      "\n",
      "See the caveats in the documentation: https://pandas.pydata.org/pandas-docs/stable/user_guide/indexing.html#returning-a-view-versus-a-copy\n",
      "\n"
     ]
    },
    {
     "data": {
      "image/png": "[encoded data removed]",
      "text/plain": [
       "<Figure size 640x480 with 1 Axes>"
      ]
     },
     "metadata": {},
     "output_type": "display_data"
    }
   ],
   "source": [
    "# Convert timestamps to datetime\n",
    "service_requests['Service request open timestamp'] = pd.to_datetime(service_requests['Service request open timestamp'], errors='coerce')\n",
    "\n",
    "# Analyze trends by month, weekday, and time of day\n",
    "service_requests['month'] = service_requests['Service request open timestamp'].dt.month\n",
    "service_requests['weekday'] = service_requests['Service request open timestamp'].dt.weekday\n",
    "service_requests['hour'] = service_requests['Service request open timestamp'].dt.hour\n",
    "\n",
    "monthly_trends = service_requests.groupby('month').size()\n",
    "weekly_trends = service_requests.groupby('weekday').size()\n",
    "hourly_trends = service_requests.groupby('hour').size()\n",
    "plt.plot(monthly_trends.index, monthly_trends.values)\n",
    "service_requests.to_csv('data/311service-requests.csv', index=False)"
   ]
  },
  {
   "cell_type": "code",
   "execution_count": 18,
   "metadata": {},
   "outputs": [
    {
     "data": {
      "text/html": [
       "<div>\n",
       "<style scoped>\n",
       "    .dataframe tbody tr th:only-of-type {\n",
       "        vertical-align: middle;\n",
       "    }\n",
       "\n",
       "    .dataframe tbody tr th {\n",
       "        vertical-align: top;\n",
       "    }\n",
       "\n",
       "    .dataframe thead th {\n",
       "        text-align: right;\n",
       "    }\n",
       "</style>\n",
       "<table border=\"1\" class=\"dataframe\">\n",
       "  <thead>\n",
       "    <tr style=\"text-align: right;\">\n",
       "      <th></th>\n",
       "      <th>Department</th>\n",
       "      <th>Service request type</th>\n",
       "      <th>Status</th>\n",
       "      <th>Closure reason</th>\n",
       "      <th>Service request open timestamp</th>\n",
       "      <th>Service request close date</th>\n",
       "      <th>Local area</th>\n",
       "      <th>Channel</th>\n",
       "      <th>Category</th>\n",
       "      <th>month</th>\n",
       "      <th>weekday</th>\n",
       "      <th>hour</th>\n",
       "    </tr>\n",
       "  </thead>\n",
       "  <tbody>\n",
       "    <tr>\n",
       "      <th>0</th>\n",
       "      <td>ENG - Parking Management</td>\n",
       "      <td>Residential Parking Permit Request Case</td>\n",
       "      <td>Close</td>\n",
       "      <td>Unknown</td>\n",
       "      <td>2022-09-16 20:21:59-07:00</td>\n",
       "      <td>2023-10-19</td>\n",
       "      <td>Sunset</td>\n",
       "      <td>Phone</td>\n",
       "      <td>Transportation and Traffic</td>\n",
       "      <td>9.0</td>\n",
       "      <td>4.0</td>\n",
       "      <td>20.0</td>\n",
       "    </tr>\n",
       "    <tr>\n",
       "      <th>1</th>\n",
       "      <td>PR - Urban Forestry</td>\n",
       "      <td>City and Park Trees Maintenance Case</td>\n",
       "      <td>Close</td>\n",
       "      <td>Further action has been planned</td>\n",
       "      <td>2022-09-16 20:31:00-07:00</td>\n",
       "      <td>2022-09-21</td>\n",
       "      <td>Mount Pleasant</td>\n",
       "      <td>Phone</td>\n",
       "      <td>Other</td>\n",
       "      <td>9.0</td>\n",
       "      <td>4.0</td>\n",
       "      <td>20.0</td>\n",
       "    </tr>\n",
       "    <tr>\n",
       "      <th>2</th>\n",
       "      <td>ENG - Sanitation Services</td>\n",
       "      <td>Dead Animal Pick Up Case</td>\n",
       "      <td>Close</td>\n",
       "      <td>Issue not found or inaccessible</td>\n",
       "      <td>2022-09-16 20:36:00-07:00</td>\n",
       "      <td>2022-09-22</td>\n",
       "      <td>Renfrew-Collingwood</td>\n",
       "      <td>Phone</td>\n",
       "      <td>Environmental and Waste Management</td>\n",
       "      <td>9.0</td>\n",
       "      <td>4.0</td>\n",
       "      <td>20.0</td>\n",
       "    </tr>\n",
       "    <tr>\n",
       "      <th>3</th>\n",
       "      <td>ENG - Parking Enforcement and Operations</td>\n",
       "      <td>Parking Enforcement Transfer Case</td>\n",
       "      <td>Close</td>\n",
       "      <td>Unknown</td>\n",
       "      <td>2022-09-16 20:37:36-07:00</td>\n",
       "      <td>2022-09-16</td>\n",
       "      <td>NaN</td>\n",
       "      <td>Phone</td>\n",
       "      <td>Transportation and Traffic</td>\n",
       "      <td>9.0</td>\n",
       "      <td>4.0</td>\n",
       "      <td>20.0</td>\n",
       "    </tr>\n",
       "    <tr>\n",
       "      <th>4</th>\n",
       "      <td>DBL - Services Centre</td>\n",
       "      <td>Building and Development Inquiry Case</td>\n",
       "      <td>Close</td>\n",
       "      <td>Service provided</td>\n",
       "      <td>2022-09-16 20:58:00-07:00</td>\n",
       "      <td>2022-09-20</td>\n",
       "      <td>NaN</td>\n",
       "      <td>WEB</td>\n",
       "      <td>Urban Planning and Development</td>\n",
       "      <td>9.0</td>\n",
       "      <td>4.0</td>\n",
       "      <td>20.0</td>\n",
       "    </tr>\n",
       "  </tbody>\n",
       "</table>\n",
       "</div>"
      ],
      "text/plain": [
       "                                 Department  \\\n",
       "0                  ENG - Parking Management   \n",
       "1                       PR - Urban Forestry   \n",
       "2                 ENG - Sanitation Services   \n",
       "3  ENG - Parking Enforcement and Operations   \n",
       "4                     DBL - Services Centre   \n",
       "\n",
       "                      Service request type Status  \\\n",
       "0  Residential Parking Permit Request Case  Close   \n",
       "1     City and Park Trees Maintenance Case  Close   \n",
       "2                 Dead Animal Pick Up Case  Close   \n",
       "3        Parking Enforcement Transfer Case  Close   \n",
       "4    Building and Development Inquiry Case  Close   \n",
       "\n",
       "                    Closure reason Service request open timestamp  \\\n",
       "0                          Unknown      2022-09-16 20:21:59-07:00   \n",
       "1  Further action has been planned      2022-09-16 20:31:00-07:00   \n",
       "2  Issue not found or inaccessible      2022-09-16 20:36:00-07:00   \n",
       "3                          Unknown      2022-09-16 20:37:36-07:00   \n",
       "4                 Service provided      2022-09-16 20:58:00-07:00   \n",
       "\n",
       "  Service request close date           Local area Channel  \\\n",
       "0                 2023-10-19               Sunset   Phone   \n",
       "1                 2022-09-21       Mount Pleasant   Phone   \n",
       "2                 2022-09-22  Renfrew-Collingwood   Phone   \n",
       "3                 2022-09-16                  NaN   Phone   \n",
       "4                 2022-09-20                  NaN     WEB   \n",
       "\n",
       "                             Category  month  weekday  hour  \n",
       "0          Transportation and Traffic    9.0      4.0  20.0  \n",
       "1                               Other    9.0      4.0  20.0  \n",
       "2  Environmental and Waste Management    9.0      4.0  20.0  \n",
       "3          Transportation and Traffic    9.0      4.0  20.0  \n",
       "4      Urban Planning and Development    9.0      4.0  20.0  "
      ]
     },
     "execution_count": 18,
     "metadata": {},
     "output_type": "execute_result"
    }
   ],
   "source": [
    "service_requests.head()"
   ]
  },
  {
   "cell_type": "code",
   "execution_count": 25,
   "metadata": {},
   "outputs": [],
   "source": [
    "import altair as alt\n",
    "\n",
    "# Monthly trends\n",
    "monthly_trends = service_requests.groupby('month').size().reset_index(name='Count')\n",
    "\n",
    "# Weekly trends\n",
    "weekly_trends = service_requests.groupby('weekday').size().reset_index(name='Count')\n",
    "\n",
    "# Hourly trends\n",
    "hourly_trends = service_requests.groupby('hour').size().reset_index(name='Count')\n",
    "\n",
    "# Altair charts\n",
    "# Monthly trends chart\n",
    "monthly_chart = alt.Chart(monthly_trends).mark_line(point=True).encode(\n",
    "    x=alt.X('month:O', title='Month'),\n",
    "    y=alt.Y('Count:Q', title='Number of Requests'),\n",
    "    tooltip=['month', 'Count']\n",
    ").properties(\n",
    "    title=\"Monthly Service Request Trends\",\n",
    "    width=600,\n",
    "    height=400\n",
    ")\n",
    "\n",
    "# Weekly trends chart\n",
    "weekly_chart = alt.Chart(weekly_trends).mark_line(point=True).encode(\n",
    "    x=alt.X('weekday:O', title='Weekday', axis=alt.Axis(labelAngle=0)),\n",
    "    y=alt.Y('Count:Q', title='Number of Requests'),\n",
    "    tooltip=['weekday', 'Count']\n",
    ").properties(\n",
    "    title=\"Weekly Service Request Trends\",\n",
    "    width=600,\n",
    "    height=400\n",
    ")\n",
    "\n",
    "# Hourly trends chart\n",
    "hourly_chart = alt.Chart(hourly_trends).mark_line(point=True).encode(\n",
    "    x=alt.X('hour:O', title='Hour of Day'),\n",
    "    y=alt.Y('Count:Q', title='Number of Requests'),\n",
    "    tooltip=['hour', 'Count']\n",
    ").properties(\n",
    "    title=\"Hourly Service Request Trends\",\n",
    "    width=600,\n",
    "    height=400\n",
    ")\n",
    "\n",
    "# # Display the charts in Streamlit\n",
    "# st.altair_chart(monthly_chart, use_container_width=True)\n",
    "# st.altair_chart(weekly_chart, use_container_width=True)\n",
    "# st.altair_chart(hourly_chart, use_container_width=True)"
   ]
  },
  {
   "cell_type": "code",
   "execution_count": 36,
   "metadata": {},
   "outputs": [
    {
     "name": "stderr",
     "output_type": "stream",
     "text": [
      "/opt/anaconda3/lib/python3.12/site-packages/altair/utils/deprecation.py:65: AltairDeprecationWarning:\n",
      "\n",
      "'selection_single' is deprecated.  Use 'selection_point'\n",
      "\n",
      "/opt/anaconda3/lib/python3.12/site-packages/altair/utils/deprecation.py:65: AltairDeprecationWarning:\n",
      "\n",
      "'add_selection' is deprecated. Use 'add_params' instead.\n",
      "\n"
     ]
    },
    {
     "ename": "NameError",
     "evalue": "name 'st' is not defined",
     "output_type": "error",
     "traceback": [
      "\u001b[0;31m---------------------------------------------------------------------------\u001b[0m",
      "\u001b[0;31mNameError\u001b[0m                                 Traceback (most recent call last)",
      "Cell \u001b[0;32mIn[36], line 42\u001b[0m\n\u001b[1;32m     26\u001b[0m chart \u001b[38;5;241m=\u001b[39m alt\u001b[38;5;241m.\u001b[39mChart(combined_data)\u001b[38;5;241m.\u001b[39mmark_line(point\u001b[38;5;241m=\u001b[39m\u001b[38;5;28;01mTrue\u001b[39;00m)\u001b[38;5;241m.\u001b[39mencode(\n\u001b[1;32m     27\u001b[0m     x\u001b[38;5;241m=\u001b[39malt\u001b[38;5;241m.\u001b[39mX(\u001b[38;5;124m'\u001b[39m\u001b[38;5;124mValue:O\u001b[39m\u001b[38;5;124m'\u001b[39m, title\u001b[38;5;241m=\u001b[39m\u001b[38;5;124m'\u001b[39m\u001b[38;5;124mTime Metric\u001b[39m\u001b[38;5;124m'\u001b[39m),\n\u001b[1;32m     28\u001b[0m     y\u001b[38;5;241m=\u001b[39malt\u001b[38;5;241m.\u001b[39mY(\u001b[38;5;124m'\u001b[39m\u001b[38;5;124mCount:Q\u001b[39m\u001b[38;5;124m'\u001b[39m, title\u001b[38;5;241m=\u001b[39m\u001b[38;5;124m'\u001b[39m\u001b[38;5;124mNumber of Requests\u001b[39m\u001b[38;5;124m'\u001b[39m),\n\u001b[0;32m   (...)\u001b[0m\n\u001b[1;32m     38\u001b[0m     height\u001b[38;5;241m=\u001b[39m\u001b[38;5;241m400\u001b[39m\n\u001b[1;32m     39\u001b[0m )\n\u001b[1;32m     41\u001b[0m \u001b[38;5;66;03m# Display the chart in Streamlit\u001b[39;00m\n\u001b[0;32m---> 42\u001b[0m st\u001b[38;5;241m.\u001b[39maltair_chart(chart, use_container_width\u001b[38;5;241m=\u001b[39m\u001b[38;5;28;01mTrue\u001b[39;00m)\n",
      "\u001b[0;31mNameError\u001b[0m: name 'st' is not defined"
     ]
    }
   ],
   "source": [
    "# Prepare data for visualization\n",
    "# Aggregate counts for month, weekday, and hour\n",
    "monthly_trends = service_requests.groupby('month').size().reset_index(name='Count')\n",
    "monthly_trends['Metric'] = 'Month'\n",
    "\n",
    "weekly_trends = service_requests.groupby('weekday').size().reset_index(name='Count')\n",
    "weekly_trends['Metric'] = 'Weekday'\n",
    "\n",
    "hourly_trends = service_requests.groupby('hour').size().reset_index(name='Count')\n",
    "hourly_trends['Metric'] = 'Hour'\n",
    "\n",
    "# Combine data into a single DataFrame\n",
    "monthly_trends.rename(columns={'month': 'Value'}, inplace=True)\n",
    "weekly_trends.rename(columns={'weekday': 'Value'}, inplace=True)\n",
    "hourly_trends.rename(columns={'hour': 'Value'}, inplace=True)\n",
    "combined_data = pd.concat([monthly_trends, weekly_trends, hourly_trends], ignore_index=True)\n",
    "\n",
    "# Define Altair dropdown selection\n",
    "selection = alt.selection_single(\n",
    "    fields=['Metric'], \n",
    "    bind=alt.binding_select(options=['Month', 'Weekday', 'Hour'], name=\"Select Metric: \"),\n",
    "    value='Month'  # Set the initial value using the value argument\n",
    ")\n",
    "\n",
    "# Create the chart\n",
    "chart = alt.Chart(combined_data).mark_line(point=True).encode(\n",
    "    x=alt.X('Value:O', title='Time Metric'),\n",
    "    y=alt.Y('Count:Q', title='Number of Requests'),\n",
    "    color=alt.Color('Metric:N', legend=None),\n",
    "    tooltip=['Value', 'Count']\n",
    ").add_selection(\n",
    "    selection\n",
    ").transform_filter(\n",
    "    selection\n",
    ").properties(\n",
    "    title=\"Service Request Trends by Time\",\n",
    "    width=800,\n",
    "    height=400\n",
    ")\n",
    "\n",
    "# Display the chart in Streamlit\n",
    "# st.altair_chart(chart, use_container_width=True)"
   ]
  },
  {
   "cell_type": "code",
   "execution_count": 41,
   "metadata": {},
   "outputs": [
    {
     "name": "stderr",
     "output_type": "stream",
     "text": [
      "/opt/anaconda3/lib/python3.12/site-packages/altair/utils/deprecation.py:65: AltairDeprecationWarning:\n",
      "\n",
      "'selection_single' is deprecated.  Use 'selection_point'\n",
      "\n",
      "/opt/anaconda3/lib/python3.12/site-packages/altair/utils/deprecation.py:65: AltairDeprecationWarning:\n",
      "\n",
      "'add_selection' is deprecated. Use 'add_params' instead.\n",
      "\n"
     ]
    },
    {
     "ename": "NameError",
     "evalue": "name 'st' is not defined",
     "output_type": "error",
     "traceback": [
      "\u001b[0;31m---------------------------------------------------------------------------\u001b[0m",
      "\u001b[0;31mNameError\u001b[0m                                 Traceback (most recent call last)",
      "Cell \u001b[0;32mIn[41], line 48\u001b[0m\n\u001b[1;32m     28\u001b[0m chart \u001b[38;5;241m=\u001b[39m alt\u001b[38;5;241m.\u001b[39mChart(monthly_data)\u001b[38;5;241m.\u001b[39mmark_line(point\u001b[38;5;241m=\u001b[39m\u001b[38;5;28;01mTrue\u001b[39;00m)\u001b[38;5;241m.\u001b[39mencode(\n\u001b[1;32m     29\u001b[0m     x\u001b[38;5;241m=\u001b[39malt\u001b[38;5;241m.\u001b[39mX(\u001b[38;5;124m'\u001b[39m\u001b[38;5;124mmonth:O\u001b[39m\u001b[38;5;124m'\u001b[39m, title\u001b[38;5;241m=\u001b[39m\u001b[38;5;124m'\u001b[39m\u001b[38;5;124mMonth\u001b[39m\u001b[38;5;124m'\u001b[39m),\n\u001b[1;32m     30\u001b[0m     y\u001b[38;5;241m=\u001b[39malt\u001b[38;5;241m.\u001b[39mY(\u001b[38;5;124m'\u001b[39m\u001b[38;5;124mCount:Q\u001b[39m\u001b[38;5;124m'\u001b[39m, title\u001b[38;5;241m=\u001b[39m\u001b[38;5;124m'\u001b[39m\u001b[38;5;124mNumber of Requests\u001b[39m\u001b[38;5;124m'\u001b[39m),\n\u001b[0;32m   (...)\u001b[0m\n\u001b[1;32m     44\u001b[0m     height\u001b[38;5;241m=\u001b[39m\u001b[38;5;241m400\u001b[39m\n\u001b[1;32m     45\u001b[0m )\n\u001b[1;32m     47\u001b[0m \u001b[38;5;66;03m# Display in Streamlit\u001b[39;00m\n\u001b[0;32m---> 48\u001b[0m st\u001b[38;5;241m.\u001b[39maltair_chart(chart, use_container_width\u001b[38;5;241m=\u001b[39m\u001b[38;5;28;01mTrue\u001b[39;00m)\n",
      "\u001b[0;31mNameError\u001b[0m: name 'st' is not defined"
     ]
    }
   ],
   "source": [
    "import altair as alt\n",
    "\n",
    "# Group data by category and request type\n",
    "monthly_data = (\n",
    "    service_requests.groupby(['month', 'Category', 'Service request type'])\n",
    "    .size()\n",
    "    .reset_index(name='Count')\n",
    ")\n",
    "\n",
    "# Dropdown selection for category\n",
    "category_dropdown = alt.binding_select(\n",
    "    options=monthly_data['Category'].unique().tolist(),\n",
    "    name=\"Select Category: \"\n",
    ")\n",
    "category_selection = alt.selection_single(\n",
    "    fields=['Category'],\n",
    "    bind=category_dropdown\n",
    ")\n",
    "\n",
    "# Dropdown selection for request type (dependent on category)\n",
    "request_type_dropdown = alt.binding_select(\n",
    "    options=monthly_data['Service request type'].unique().tolist(),\n",
    "    name=\"Select Request Type: \"\n",
    ")\n",
    "request_type_selection = alt.selection_single(fields=['Service request type'], bind=request_type_dropdown)\n",
    "\n",
    "# Main chart (drills down by category and request type)\n",
    "chart = alt.Chart(monthly_data).mark_line(point=True).encode(\n",
    "    x=alt.X('month:O', title='Month'),\n",
    "    y=alt.Y('Count:Q', title='Number of Requests'),\n",
    "    color='Service request type:N',\n",
    "    tooltip=['Service request type', 'Count', 'month']\n",
    ").add_selection(\n",
    "    category_selection\n",
    ").transform_filter(\n",
    "    category_selection\n",
    ").add_selection(\n",
    "    request_type_selection\n",
    ").transform_filter(\n",
    "    request_type_selection\n",
    ").properties(\n",
    "    title=\"Trends by Category and Request Type\",\n",
    "    width=800,\n",
    "    height=400\n",
    ")\n",
    "\n",
    "# Display in Streamlit\n",
    "st.altair_chart(chart, use_container_width=True)"
   ]
  }
 ],
 "metadata": {
  "kernelspec": {
   "display_name": "base",
   "language": "python",
   "name": "python3"
  },
  "language_info": {
   "codemirror_mode": {
    "name": "ipython",
    "version": 3
   },
   "file_extension": ".py",
   "mimetype": "text/x-python",
   "name": "python",
   "nbconvert_exporter": "python",
   "pygments_lexer": "ipython3",
   "version": "3.12.4"
  }
 },
 "nbformat": 4,
 "nbformat_minor": 2
}
